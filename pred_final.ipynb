{
 "cells": [
  {
   "cell_type": "markdown",
   "id": "a801a4cd",
   "metadata": {},
   "source": [
    "## Load the DATASET"
   ]
  },
  {
   "cell_type": "code",
   "execution_count": null,
   "id": "d32fec96",
   "metadata": {
    "vscode": {
     "languageId": "plaintext"
    }
   },
   "outputs": [],
   "source": [
    "import pandas as pd\n",
    "merged=pd.read_csv(\"/home/sohanx1/Downloads/6th sem/SE/nokia/codes/gshare/merged_dataset.csv\")"
   ]
  },
  {
   "cell_type": "markdown",
   "id": "bf69681a",
   "metadata": {},
   "source": [
    "## Details of Dataset"
   ]
  },
  {
   "cell_type": "code",
   "execution_count": null,
   "id": "a8bbb628",
   "metadata": {
    "vscode": {
     "languageId": "plaintext"
    }
   },
   "outputs": [],
   "source": [
    "row_counts = merged.count()\n",
    "print(row_counts)\n",
    "merged.isnull().sum()"
   ]
  },
  {
   "cell_type": "markdown",
   "id": "79bb26b6",
   "metadata": {},
   "source": [
    "## Cleaning"
   ]
  },
  {
   "cell_type": "code",
   "execution_count": null,
   "id": "3f0efec6",
   "metadata": {
    "vscode": {
     "languageId": "plaintext"
    }
   },
   "outputs": [],
   "source": [
    "## Dropping Alarmed Object Source System entirely as it is totally empty\n",
    "merged.drop('Alarmed Object Source System', axis=1, inplace=True)\n",
    "merged = merged.dropna(subset=['Alarm Name','Site Name'])"
   ]
  },
  {
   "cell_type": "code",
   "execution_count": null,
   "id": "6c7435bc",
   "metadata": {
    "vscode": {
     "languageId": "plaintext"
    }
   },
   "outputs": [],
   "source": [
    "merged['Additional Text'].fillna('Unknown', inplace=True)\n",
    "merged['Is Service Affecting'].fillna(1, inplace=True)\n"
   ]
  },
  {
   "cell_type": "markdown",
   "id": "265ac748",
   "metadata": {},
   "source": [
    "## Handling missing values for last_time_cleared columns \n",
    "\n",
    "- ### If null/empty that means it has not yet been cleared"
   ]
  },
  {
   "cell_type": "code",
   "execution_count": null,
   "id": "a7b264f4",
   "metadata": {
    "vscode": {
     "languageId": "plaintext"
    }
   },
   "outputs": [],
   "source": [
    "merged['is_active'] = merged['Last Time Cleared'].isnull().astype(int)  # 1 = active, 0 = cleared"
   ]
  },
  {
   "cell_type": "markdown",
   "id": "b1eb17b2",
   "metadata": {},
   "source": [
    "## Get the Unique values from each columns"
   ]
  },
  {
   "cell_type": "code",
   "execution_count": null,
   "id": "bbe59944",
   "metadata": {
    "vscode": {
     "languageId": "plaintext"
    }
   },
   "outputs": [],
   "source": [
    "unique_values = {col: merged[col].unique() for col in merged.columns}\n",
    "max_len = max(len(v) for v in unique_values.values())\n",
    "for k in unique_values:\n",
    "    unique_values[k] = list(unique_values[k]) + [None] * (max_len - len(unique_values[k]))\n",
    "\n",
    "unique_df = pd.DataFrame(unique_values)\n",
    "unique_df.to_csv('unique_values.csv', index=False)\n",
    "\n",
    "\n",
    "## Print No of Unique values in each columns\n",
    "for col in df.columns:\n",
    "    print(f\"{col}: {df[col].nunique()} unique values\")"
   ]
  },
  {
   "cell_type": "markdown",
   "id": "8ce50f65",
   "metadata": {},
   "source": [
    "## Getting only 400k rows for training due to computing constraint"
   ]
  },
  {
   "cell_type": "code",
   "execution_count": null,
   "id": "0d7b7870",
   "metadata": {
    "vscode": {
     "languageId": "plaintext"
    }
   },
   "outputs": [],
   "source": [
    "dff=pd.read_csv(\"/home/sohanx1/Downloads/6th sem/SE/nokia/codes/gshare/cleaned_merged.csv\",nrows=400000)\n",
    "dff.to_csv(\"400k_merged_cleaned_data.csv\",index=False)"
   ]
  },
  {
   "cell_type": "markdown",
   "id": "9cd085c3",
   "metadata": {},
   "source": [
    "## Feature Engineering Training "
   ]
  },
  {
   "cell_type": "code",
   "execution_count": null,
   "id": "c0d50497",
   "metadata": {
    "vscode": {
     "languageId": "plaintext"
    }
   },
   "outputs": [],
   "source": [
    "import pandas as pd\n",
    "import matplotlib.pyplot as plt\n",
    "from sklearn.preprocessing import LabelEncoder\n",
    "from sklearn.ensemble import RandomForestClassifier\n",
    "from sklearn.model_selection import train_test_split, cross_val_score\n",
    "from sklearn.metrics import classification_report, confusion_matrix\n",
    "from xgboost import XGBClassifier\n",
    "import seaborn as sns\n",
    "\n",
    "# 1. Load Data\n",
    "df = pd.read_csv(\"/content/400k_merged_cleaned_data.csv\")\n",
    "\n",
    "# 2. Basic EDA\n",
    "print(\"\\n--- Head ---\\n\", df.head())\n",
    "print(\"\\n--- Info ---\\n\")\n",
    "print(df.info())\n",
    "print(\"\\n--- Describe ---\\n\", df.describe(include='all'))\n",
    "print(\"\\n--- Null Counts ---\\n\", df.isnull().sum())\n",
    "\n",
    "# 3. Visualizations\n",
    "plt.figure(figsize=(12,6))\n",
    "df['Severity'].value_counts().plot(kind='bar', title='Severity Distribution')\n",
    "plt.xlabel('Severity')\n",
    "plt.ylabel('Count')\n",
    "plt.show()\n",
    "\n",
    "plt.figure(figsize=(12,6))\n",
    "df['Alarm Type'].value_counts().head(20).plot(kind='bar', title='Top 20 Alarm Types')\n",
    "plt.xlabel('Alarm Type')\n",
    "plt.ylabel('Count')\n",
    "plt.show()\n",
    "\n",
    "plt.figure(figsize=(12,6))\n",
    "df['Life Span (minutes)'].hist(bins=30)\n",
    "plt.title('Distribution of Life Span (minutes)')\n",
    "plt.xlabel('Minutes')\n",
    "plt.ylabel('Count')\n",
    "plt.show()\n",
    "\n",
    "plt.figure(figsize=(6,6))\n",
    "df['is_active'].value_counts().plot.pie(autopct='%1.1f%%', labels=['Cleared','Active'])\n",
    "plt.title('Active vs Cleared Alarms')\n",
    "plt.ylabel('')\n",
    "plt.show()\n",
    "\n",
    "# 4. Encoding Categorical Features\n",
    "categorical_cols = [\n",
    "    'Severity', 'Site Name', 'Source System', 'Alarm Name',\n",
    "    'Alarmed Object Name', 'Alarmed Object Type', 'Alarm Type',\n",
    "    'Probable Cause', 'Specific Problem', 'Previous Severity'\n",
    "]\n",
    "\n",
    "encoders = {}\n",
    "for col in categorical_cols:\n",
    "    le = LabelEncoder()\n",
    "    df[col] = le.fit_transform(df[col].astype(str))\n",
    "    encoders[col] = le\n",
    "\n",
    "# Ensure numeric columns\n",
    "df['Life Span (minutes)'] = pd.to_numeric(df['Life Span (minutes)'], errors='coerce')\n",
    "df['Number Of Occurrences'] = pd.to_numeric(df['Number Of Occurrences'], errors='coerce')\n",
    "df['Is Service Affecting'] = pd.to_numeric(df['Is Service Affecting'], errors='coerce')\n",
    "df['is_active'] = pd.to_numeric(df['is_active'], errors='coerce')\n",
    "\n",
    "# 5. Drop Unused Columns\n",
    "df = df.drop(columns=['Unnamed: 0', 'Alarm ID', 'First Time Detected', 'Last Time Cleared', 'Last Time Detected', 'Additional Text'], errors='ignore')\n",
    "\n",
    "# 6. Feature & Target Mapping\n",
    "# Example: Predict Alarm Type (multi-class classification)\n",
    "target_column = 'Severity'\n",
    "input_features = [col for col in df.columns if col != target_column]\n",
    "\n",
    "print(\"\\n--- Feature Mapping for Alarm Type Prediction ---\")\n",
    "print(\"Target:\", target_column)\n",
    "print(\"Input Features:\", input_features)\n",
    "\n",
    "# If you want to try other targets (e.g., Severity, Site Name, Is Service Affecting), just change target_column\n",
    "\n",
    "# 7. Train/Test Split\n",
    "X = df[input_features]\n",
    "y = df[target_column]\n",
    "\n",
    "X_train, X_test, y_train, y_test = train_test_split(X, y, test_size=0.2, random_state=42, stratify=y)\n",
    "\n",
    "# 8. Model Training: Random Forest Classifier\n",
    "rf = RandomForestClassifier(n_estimators=100, random_state=42, n_jobs=-1, class_weight='balanced')\n",
    "rf.fit(X_train, y_train)\n",
    "y_pred = rf.predict(X_test)\n",
    "\n",
    "print(\"\\n--- Random Forest Classification Report ---\\n\")\n",
    "print(classification_report(y_test, y_pred))\n",
    "\n",
    "cm = confusion_matrix(y_test, y_pred)\n",
    "plt.figure(figsize=(10, 8))\n",
    "sns.heatmap(cm, annot=False, cmap='Blues')\n",
    "plt.title('Confusion Matrix')\n",
    "plt.xlabel('Predicted')\n",
    "plt.ylabel('Actual')\n",
    "plt.show()\n",
    "\n",
    "# 9. Model Training: XGBoost (Optional)\n",
    "xgb = XGBClassifier(tree_method=\"hist\", use_label_encoder=False, eval_metric='mlogloss')\n",
    "xgb.fit(X_train, y_train)\n",
    "y_pred_xgb = xgb.predict(X_test)\n",
    "\n",
    "print(\"\\n--- XGBoost Classification Report ---\\n\")\n",
    "print(classification_report(y_test, y_pred_xgb))\n",
    "\n",
    "# 10. Cross-validation Scores\n",
    "rf_cv = cross_val_score(rf, X, y, cv=5, scoring='f1_weighted')\n",
    "print(\"\\nRandom Forest CV F1 (weighted):\", rf_cv.mean())\n",
    "\n",
    "xgb_cv = cross_val_score(xgb, X, y, cv=5, scoring='f1_weighted')\n",
    "print(\"XGBoost CV F1 (weighted):\", xgb_cv.mean())\n",
    "\n",
    "# 11. Feature Importance Plot (Random Forest)\n",
    "importances = rf.feature_importances_\n",
    "feat_names = X.columns\n",
    "imp_df = pd.DataFrame({'feature': feat_names, 'importance': importances})\n",
    "imp_df = imp_df.sort_values('importance', ascending=False)\n",
    "\n",
    "plt.figure(figsize=(12, 6))\n",
    "sns.barplot(data=imp_df.head(15), x='importance', y='feature')\n",
    "plt.title(\"Top 15 Feature Importances (Random Forest)\")\n",
    "plt.show()\n"
   ]
  }
 ],
 "metadata": {
  "language_info": {
   "name": "python"
  }
 },
 "nbformat": 4,
 "nbformat_minor": 5
}
