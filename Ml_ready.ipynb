{
  "nbformat": 4,
  "nbformat_minor": 0,
  "metadata": {
    "colab": {
      "provenance": [],
      "authorship_tag": "ABX9TyNo+w6z8+JaB3j5X9uOft0O",
      "include_colab_link": true
    },
    "kernelspec": {
      "name": "python3",
      "display_name": "Python 3"
    },
    "language_info": {
      "name": "python"
    }
  },
  "cells": [
    {
      "cell_type": "markdown",
      "metadata": {
        "id": "view-in-github",
        "colab_type": "text"
      },
      "source": [
        "<a href=\"https://colab.research.google.com/github/Aryan-raj05/Alarm_prediction_alert/blob/main/Ml_ready.ipynb\" target=\"_parent\"><img src=\"https://colab.research.google.com/assets/colab-badge.svg\" alt=\"Open In Colab\"/></a>"
      ]
    },
    {
      "cell_type": "code",
      "execution_count": null,
      "metadata": {
        "colab": {
          "base_uri": "https://localhost:8080/",
          "height": 360
        },
        "id": "WhFgyyQwB7MJ",
        "outputId": "73007933-b8f4-4111-f2ab-61683a15bde3"
      },
      "outputs": [
        {
          "output_type": "display_data",
          "data": {
            "text/plain": [
              "<IPython.core.display.HTML object>"
            ],
            "text/html": [
              "\n",
              "     <input type=\"file\" id=\"files-528765d8-3ed7-48d7-96a1-d37b9a63ca21\" name=\"files[]\" multiple disabled\n",
              "        style=\"border:none\" />\n",
              "     <output id=\"result-528765d8-3ed7-48d7-96a1-d37b9a63ca21\">\n",
              "      Upload widget is only available when the cell has been executed in the\n",
              "      current browser session. Please rerun this cell to enable.\n",
              "      </output>\n",
              "      <script>// Copyright 2017 Google LLC\n",
              "//\n",
              "// Licensed under the Apache License, Version 2.0 (the \"License\");\n",
              "// you may not use this file except in compliance with the License.\n",
              "// You may obtain a copy of the License at\n",
              "//\n",
              "//      http://www.apache.org/licenses/LICENSE-2.0\n",
              "//\n",
              "// Unless required by applicable law or agreed to in writing, software\n",
              "// distributed under the License is distributed on an \"AS IS\" BASIS,\n",
              "// WITHOUT WARRANTIES OR CONDITIONS OF ANY KIND, either express or implied.\n",
              "// See the License for the specific language governing permissions and\n",
              "// limitations under the License.\n",
              "\n",
              "/**\n",
              " * @fileoverview Helpers for google.colab Python module.\n",
              " */\n",
              "(function(scope) {\n",
              "function span(text, styleAttributes = {}) {\n",
              "  const element = document.createElement('span');\n",
              "  element.textContent = text;\n",
              "  for (const key of Object.keys(styleAttributes)) {\n",
              "    element.style[key] = styleAttributes[key];\n",
              "  }\n",
              "  return element;\n",
              "}\n",
              "\n",
              "// Max number of bytes which will be uploaded at a time.\n",
              "const MAX_PAYLOAD_SIZE = 100 * 1024;\n",
              "\n",
              "function _uploadFiles(inputId, outputId) {\n",
              "  const steps = uploadFilesStep(inputId, outputId);\n",
              "  const outputElement = document.getElementById(outputId);\n",
              "  // Cache steps on the outputElement to make it available for the next call\n",
              "  // to uploadFilesContinue from Python.\n",
              "  outputElement.steps = steps;\n",
              "\n",
              "  return _uploadFilesContinue(outputId);\n",
              "}\n",
              "\n",
              "// This is roughly an async generator (not supported in the browser yet),\n",
              "// where there are multiple asynchronous steps and the Python side is going\n",
              "// to poll for completion of each step.\n",
              "// This uses a Promise to block the python side on completion of each step,\n",
              "// then passes the result of the previous step as the input to the next step.\n",
              "function _uploadFilesContinue(outputId) {\n",
              "  const outputElement = document.getElementById(outputId);\n",
              "  const steps = outputElement.steps;\n",
              "\n",
              "  const next = steps.next(outputElement.lastPromiseValue);\n",
              "  return Promise.resolve(next.value.promise).then((value) => {\n",
              "    // Cache the last promise value to make it available to the next\n",
              "    // step of the generator.\n",
              "    outputElement.lastPromiseValue = value;\n",
              "    return next.value.response;\n",
              "  });\n",
              "}\n",
              "\n",
              "/**\n",
              " * Generator function which is called between each async step of the upload\n",
              " * process.\n",
              " * @param {string} inputId Element ID of the input file picker element.\n",
              " * @param {string} outputId Element ID of the output display.\n",
              " * @return {!Iterable<!Object>} Iterable of next steps.\n",
              " */\n",
              "function* uploadFilesStep(inputId, outputId) {\n",
              "  const inputElement = document.getElementById(inputId);\n",
              "  inputElement.disabled = false;\n",
              "\n",
              "  const outputElement = document.getElementById(outputId);\n",
              "  outputElement.innerHTML = '';\n",
              "\n",
              "  const pickedPromise = new Promise((resolve) => {\n",
              "    inputElement.addEventListener('change', (e) => {\n",
              "      resolve(e.target.files);\n",
              "    });\n",
              "  });\n",
              "\n",
              "  const cancel = document.createElement('button');\n",
              "  inputElement.parentElement.appendChild(cancel);\n",
              "  cancel.textContent = 'Cancel upload';\n",
              "  const cancelPromise = new Promise((resolve) => {\n",
              "    cancel.onclick = () => {\n",
              "      resolve(null);\n",
              "    };\n",
              "  });\n",
              "\n",
              "  // Wait for the user to pick the files.\n",
              "  const files = yield {\n",
              "    promise: Promise.race([pickedPromise, cancelPromise]),\n",
              "    response: {\n",
              "      action: 'starting',\n",
              "    }\n",
              "  };\n",
              "\n",
              "  cancel.remove();\n",
              "\n",
              "  // Disable the input element since further picks are not allowed.\n",
              "  inputElement.disabled = true;\n",
              "\n",
              "  if (!files) {\n",
              "    return {\n",
              "      response: {\n",
              "        action: 'complete',\n",
              "      }\n",
              "    };\n",
              "  }\n",
              "\n",
              "  for (const file of files) {\n",
              "    const li = document.createElement('li');\n",
              "    li.append(span(file.name, {fontWeight: 'bold'}));\n",
              "    li.append(span(\n",
              "        `(${file.type || 'n/a'}) - ${file.size} bytes, ` +\n",
              "        `last modified: ${\n",
              "            file.lastModifiedDate ? file.lastModifiedDate.toLocaleDateString() :\n",
              "                                    'n/a'} - `));\n",
              "    const percent = span('0% done');\n",
              "    li.appendChild(percent);\n",
              "\n",
              "    outputElement.appendChild(li);\n",
              "\n",
              "    const fileDataPromise = new Promise((resolve) => {\n",
              "      const reader = new FileReader();\n",
              "      reader.onload = (e) => {\n",
              "        resolve(e.target.result);\n",
              "      };\n",
              "      reader.readAsArrayBuffer(file);\n",
              "    });\n",
              "    // Wait for the data to be ready.\n",
              "    let fileData = yield {\n",
              "      promise: fileDataPromise,\n",
              "      response: {\n",
              "        action: 'continue',\n",
              "      }\n",
              "    };\n",
              "\n",
              "    // Use a chunked sending to avoid message size limits. See b/62115660.\n",
              "    let position = 0;\n",
              "    do {\n",
              "      const length = Math.min(fileData.byteLength - position, MAX_PAYLOAD_SIZE);\n",
              "      const chunk = new Uint8Array(fileData, position, length);\n",
              "      position += length;\n",
              "\n",
              "      const base64 = btoa(String.fromCharCode.apply(null, chunk));\n",
              "      yield {\n",
              "        response: {\n",
              "          action: 'append',\n",
              "          file: file.name,\n",
              "          data: base64,\n",
              "        },\n",
              "      };\n",
              "\n",
              "      let percentDone = fileData.byteLength === 0 ?\n",
              "          100 :\n",
              "          Math.round((position / fileData.byteLength) * 100);\n",
              "      percent.textContent = `${percentDone}% done`;\n",
              "\n",
              "    } while (position < fileData.byteLength);\n",
              "  }\n",
              "\n",
              "  // All done.\n",
              "  yield {\n",
              "    response: {\n",
              "      action: 'complete',\n",
              "    }\n",
              "  };\n",
              "}\n",
              "\n",
              "scope.google = scope.google || {};\n",
              "scope.google.colab = scope.google.colab || {};\n",
              "scope.google.colab._files = {\n",
              "  _uploadFiles,\n",
              "  _uploadFilesContinue,\n",
              "};\n",
              "})(self);\n",
              "</script> "
            ]
          },
          "metadata": {}
        },
        {
          "output_type": "stream",
          "name": "stdout",
          "text": [
            "Saving AlarmList_HistoricalAlarms_1_DEC_2024_1.xlsx to AlarmList_HistoricalAlarms_1_DEC_2024_1.xlsx\n",
            "Saving AlarmList_HistoricalAlarms_1_DEC_2024_2.xlsx to AlarmList_HistoricalAlarms_1_DEC_2024_2.xlsx\n",
            "Saving AlarmList_HistoricalAlarms_2_DEC_2024_1.xlsx to AlarmList_HistoricalAlarms_2_DEC_2024_1.xlsx\n",
            "Saving AlarmList_HistoricalAlarms_2_DEC_2024_2.xlsx to AlarmList_HistoricalAlarms_2_DEC_2024_2.xlsx\n",
            "Saving AlarmList_HistoricalAlarms_4_DEC_2024_1.xlsx to AlarmList_HistoricalAlarms_4_DEC_2024_1.xlsx\n",
            "Saving AlarmList_HistoricalAlarms_5_DEC_2024_1.xlsx to AlarmList_HistoricalAlarms_5_DEC_2024_1.xlsx\n",
            "Saving AlarmList_HistoricalAlarms_5_DEC_2024_2.xlsx to AlarmList_HistoricalAlarms_5_DEC_2024_2.xlsx\n",
            "Saving AlarmList_HistoricalAlarms_6_DEC_2024_1.xlsx to AlarmList_HistoricalAlarms_6_DEC_2024_1.xlsx\n",
            "Saving AlarmList_HistoricalAlarms_7_DEC_2024_1.xlsx to AlarmList_HistoricalAlarms_7_DEC_2024_1.xlsx\n"
          ]
        }
      ],
      "source": [
        "from google.colab import files\n",
        "uploaded = files.upload()"
      ]
    },
    {
      "cell_type": "code",
      "source": [
        "import pandas as pd\n",
        "df=pd.read_csv(\"/content/merged_dataset.csv\")"
      ],
      "metadata": {
        "id": "lLu1K_0njdqf"
      },
      "execution_count": 14,
      "outputs": []
    },
    {
      "cell_type": "code",
      "source": [
        "df.columns"
      ],
      "metadata": {
        "colab": {
          "base_uri": "https://localhost:8080/"
        },
        "id": "NBjlF8uzB-e8",
        "outputId": "9db37132-8743-40ba-a86b-c6a285855ae7"
      },
      "execution_count": 20,
      "outputs": [
        {
          "output_type": "execute_result",
          "data": {
            "text/plain": [
              "Index(['Unnamed: 0', 'Severity', 'Site Name', 'Source System',\n",
              "       'Life Span (minutes)', 'Alarm Name', 'First Time Detected',\n",
              "       'Last Time Cleared', 'Alarmed Object Name', 'Last Time Detected',\n",
              "       'Alarmed Object Type', 'Alarmed Object Source System', 'Alarm Type',\n",
              "       'Probable Cause', 'Specific Problem', 'Is Service Affecting',\n",
              "       'Alarm ID', 'Previous Severity', 'Number Of Occurrences',\n",
              "       'Additional Text'],\n",
              "      dtype='object')"
            ]
          },
          "metadata": {},
          "execution_count": 20
        }
      ]
    },
    {
      "cell_type": "code",
      "source": [
        "# Drop rows missing critical categorical identifiers\n",
        "df = df.dropna(subset=[\"Site Name\", \"Alarm Name\"])\n",
        "\n",
        "# Handle Specific Problem\n",
        "df[\"Specific Problem\"] = df[\"Specific Problem\"].fillna(\"UNKNOWN\")\n",
        "df[\"specific_problem_missing\"] = df[\"Specific Problem\"] == \"UNKNOWN\"\n",
        "\n",
        "# Drop Additional Text completely\n",
        "df = df.drop(columns=[\"Additional Text\"], errors=\"ignore\")\n",
        "\n",
        "# Handle Previous Severity\n",
        "if \"Previous Severity\" in df.columns:\n",
        "    df = df.dropna(subset=[\"Previous Severity\"])  # or fill with mode\n",
        "\n",
        "# Handle Number of Occurrences\n",
        "if \"Number Of Occurrence\" in df.columns:\n",
        "    df[\"Number Of Occurrence\"] = df[\"Number Of Occurrence\"].fillna(0).astype(int)\n"
      ],
      "metadata": {
        "colab": {
          "base_uri": "https://localhost:8080/"
        },
        "id": "4_MfFLiPHgbF",
        "outputId": "d7f3e7a5-d51e-435d-dd7c-82e10ce6c813"
      },
      "execution_count": 21,
      "outputs": [
        {
          "output_type": "stream",
          "name": "stderr",
          "text": [
            "<ipython-input-21-8366af20ccce>:5: SettingWithCopyWarning: \n",
            "A value is trying to be set on a copy of a slice from a DataFrame.\n",
            "Try using .loc[row_indexer,col_indexer] = value instead\n",
            "\n",
            "See the caveats in the documentation: https://pandas.pydata.org/pandas-docs/stable/user_guide/indexing.html#returning-a-view-versus-a-copy\n",
            "  df[\"Specific Problem\"] = df[\"Specific Problem\"].fillna(\"UNKNOWN\")\n",
            "<ipython-input-21-8366af20ccce>:6: SettingWithCopyWarning: \n",
            "A value is trying to be set on a copy of a slice from a DataFrame.\n",
            "Try using .loc[row_indexer,col_indexer] = value instead\n",
            "\n",
            "See the caveats in the documentation: https://pandas.pydata.org/pandas-docs/stable/user_guide/indexing.html#returning-a-view-versus-a-copy\n",
            "  df[\"specific_problem_missing\"] = df[\"Specific Problem\"] == \"UNKNOWN\"\n"
          ]
        }
      ]
    },
    {
      "cell_type": "code",
      "source": [
        "print(df_unique.columns.tolist())\n",
        "# print(df_unique.head(3))\n"
      ],
      "metadata": {
        "colab": {
          "base_uri": "https://localhost:8080/"
        },
        "id": "uGcukiyrM5yF",
        "outputId": "420c9ab2-c646-427c-d90b-39d8ab343c7a"
      },
      "execution_count": 25,
      "outputs": [
        {
          "output_type": "stream",
          "name": "stdout",
          "text": [
            "['Unnamed: 0', 'Severity', 'Site Name', 'Source System', 'Life Span (minutes)', 'Alarm Name', 'First Time Detected', 'Last Time Cleared', 'Alarmed Object Name', 'Last Time Detected', 'Alarmed Object Type', 'Alarmed Object Source System', 'Alarm Type', 'Probable Cause', 'Specific Problem', 'Is Service Affecting', 'Alarm ID', 'Previous Severity', 'Number Of Occurrences', 'Additional Text']\n"
          ]
        }
      ]
    },
    {
      "cell_type": "code",
      "source": [
        "unique_values_dict = {}\n",
        "\n",
        "# Iterate through each column and extract unique values\n",
        "for column in df.columns:\n",
        "    unique_values = df[column].unique().tolist()  # Get unique values as a list\n",
        "    unique_values_dict[column] = unique_values    # Store in dictionary\n",
        "\n",
        "# Convert the dictionary to a DataFrame (for easy CSV export)\n",
        "unique_values_df = pd.DataFrame.from_dict(unique_values_dict, orient='index').transpose()\n",
        "\n",
        "# Save to CSV\n",
        "unique_values_df.to_csv('unique_values_per_column.csv', index=False)\n",
        "from google.colab import files\n",
        "files.download(\"/content/unique_values_per_column.csv\")"
      ],
      "metadata": {
        "colab": {
          "base_uri": "https://localhost:8080/",
          "height": 17
        },
        "id": "OxES-Mjb9HQK",
        "outputId": "fab94319-e756-463b-ecf8-ca9743ebcd3b"
      },
      "execution_count": 22,
      "outputs": [
        {
          "output_type": "display_data",
          "data": {
            "text/plain": [
              "<IPython.core.display.Javascript object>"
            ],
            "application/javascript": [
              "\n",
              "    async function download(id, filename, size) {\n",
              "      if (!google.colab.kernel.accessAllowed) {\n",
              "        return;\n",
              "      }\n",
              "      const div = document.createElement('div');\n",
              "      const label = document.createElement('label');\n",
              "      label.textContent = `Downloading \"${filename}\": `;\n",
              "      div.appendChild(label);\n",
              "      const progress = document.createElement('progress');\n",
              "      progress.max = size;\n",
              "      div.appendChild(progress);\n",
              "      document.body.appendChild(div);\n",
              "\n",
              "      const buffers = [];\n",
              "      let downloaded = 0;\n",
              "\n",
              "      const channel = await google.colab.kernel.comms.open(id);\n",
              "      // Send a message to notify the kernel that we're ready.\n",
              "      channel.send({})\n",
              "\n",
              "      for await (const message of channel.messages) {\n",
              "        // Send a message to notify the kernel that we're ready.\n",
              "        channel.send({})\n",
              "        if (message.buffers) {\n",
              "          for (const buffer of message.buffers) {\n",
              "            buffers.push(buffer);\n",
              "            downloaded += buffer.byteLength;\n",
              "            progress.value = downloaded;\n",
              "          }\n",
              "        }\n",
              "      }\n",
              "      const blob = new Blob(buffers, {type: 'application/binary'});\n",
              "      const a = document.createElement('a');\n",
              "      a.href = window.URL.createObjectURL(blob);\n",
              "      a.download = filename;\n",
              "      div.appendChild(a);\n",
              "      a.click();\n",
              "      div.remove();\n",
              "    }\n",
              "  "
            ]
          },
          "metadata": {}
        },
        {
          "output_type": "display_data",
          "data": {
            "text/plain": [
              "<IPython.core.display.Javascript object>"
            ],
            "application/javascript": [
              "download(\"download_dec708b6-e805-4cfa-a723-b037482c958c\", \"unique_values_per_column.csv\", 212056628)"
            ]
          },
          "metadata": {}
        }
      ]
    },
    {
      "cell_type": "code",
      "source": [
        "import pandas as pd\n",
        "\n",
        "# Load original full dataset (not the unique-values one)\n",
        "df = pd.read_csv(\"/content/merged_dataset.csv\")  # Replace with your path\n",
        "\n",
        "# Clean column names\n",
        "df.columns = (\n",
        "    df.columns\n",
        "    .str.strip()\n",
        "    .str.lower()\n",
        "    .str.replace(r\"\\s+\", \"_\", regex=True)\n",
        ")\n",
        "\n",
        "# Create ML-ready column list based on unique value distribution\n",
        "ml_ready_cols = []\n",
        "for col in df.columns:\n",
        "    n_unique = df[col].nunique(dropna=False)\n",
        "    if n_unique == 1:\n",
        "        continue  # skip constant columns\n",
        "    elif pd.api.types.is_numeric_dtype(df[col]):\n",
        "        ml_ready_cols.append(col)  # numerical features are ready\n",
        "    elif n_unique == 2:\n",
        "        ml_ready_cols.append(col)  # binary categorical\n",
        "    elif n_unique <= 100:\n",
        "        ml_ready_cols.append(col)  # one-hot or label-encoded features\n",
        "    else:\n",
        "        pass  # too high-cardinality, maybe process later via NLP/embedding(>100 unique valuse)\n",
        "\n",
        "# Filter dataset with ML-usable columns\n",
        "df_ml_ready = df[ml_ready_cols].copy()\n",
        "\n",
        "# Show the list of selected columns\n",
        "print(\" Columns selected for ML training:\")\n",
        "print(df_ml_ready.columns.tolist())\n",
        "\n",
        "# Show shape\n",
        "print(f\" ML-ready dataset shape: {df_ml_ready.shape}\")\n"
      ],
      "metadata": {
        "colab": {
          "base_uri": "https://localhost:8080/"
        },
        "id": "aDq_2o2SL3h7",
        "outputId": "8e301368-0454-4e60-9edb-c76182aa5489"
      },
      "execution_count": 26,
      "outputs": [
        {
          "output_type": "stream",
          "name": "stdout",
          "text": [
            "✅ Columns selected for ML training:\n",
            "['unnamed:_0', 'severity', 'source_system', 'life_span_(minutes)', 'alarmed_object_type', 'alarm_type', 'is_service_affecting', 'previous_severity', 'number_of_occurrences']\n",
            "✅ ML-ready dataset shape: (2199207, 9)\n"
          ]
        }
      ]
    },
    {
      "cell_type": "markdown",
      "source": [
        "## This Part is for me yours is just above part"
      ],
      "metadata": {
        "id": "GlUIwWaRQI4P"
      }
    },
    {
      "cell_type": "code",
      "source": [
        "# --------------------------------------------\n",
        "# alarm_preprocessing_merged.py\n",
        "# --------------------------------------------\n",
        "\"\"\"\n",
        "Pre-process a single, merged Nokia alarm dataset (CSV) for ML modeling.\n",
        "\n",
        "Outputs:\n",
        "1. alarms_clean.parquet       – Cleaned, feature-engineered dataset\n",
        "2. alarms_ml_ready.pkl        – (X, y_dict, preprocessor) for model training\n",
        "\"\"\"\n",
        "\n",
        "import os\n",
        "import joblib\n",
        "import numpy as np\n",
        "import pandas as pd\n",
        "\n",
        "from sklearn.pipeline import Pipeline\n",
        "from sklearn.impute import SimpleImputer\n",
        "from sklearn.compose import ColumnTransformer\n",
        "from sklearn.preprocessing import OneHotEncoder, FunctionTransformer\n",
        "\n",
        "\n",
        "def load_merged_data(path: str) -> pd.DataFrame:\n",
        "    if path.endswith(\".csv\"):\n",
        "        return pd.read_csv(path)\n",
        "\n",
        "\n",
        "def clean_column_names(df: pd.DataFrame) -> pd.DataFrame:\n",
        "    \"\"\"\n",
        "    Standardize column names: remove spaces, lowercase, replace with underscores.\n",
        "    \"\"\"\n",
        "    df.columns = (\n",
        "        df.columns\n",
        "          .str.strip()\n",
        "          .str.lower()\n",
        "          .str.replace(r\"\\s+\", \"_\", regex=True)\n",
        "    )\n",
        "    return df\n",
        "\n",
        "\n",
        "def convert_dtypes(df: pd.DataFrame) -> pd.DataFrame:\n",
        "    \"\"\"\n",
        "    Convert timestamp and numeric fields to proper dtypes.\n",
        "    \"\"\"\n",
        "    time_cols = [\"first_time_detected\", \"last_time_detected\", \"last_time_cleared\"]\n",
        "    num_cols = [\"number_of_occurrences\", \"life_span_(minutes)\"]\n",
        "\n",
        "    for col in time_cols:\n",
        "        if col in df:\n",
        "            df[col] = pd.to_datetime(df[col], errors=\"coerce\")\n",
        "\n",
        "    for col in num_cols:\n",
        "        if col in df:\n",
        "            df[col] = pd.to_numeric(df[col], errors=\"coerce\")\n",
        "\n",
        "    return df\n",
        "\n",
        "\n",
        "def engineer_features(df: pd.DataFrame) -> pd.DataFrame:\n",
        "    \"\"\"\n",
        "    Create new features based on time and alarm activity.\n",
        "    \"\"\"\n",
        "    # 1. Is the alarm still active?\n",
        "    df[\"is_active\"] = df[\"last_time_cleared\"].isna().astype(int)\n",
        "\n",
        "    # 2. Decompose first_time_detected into time components\n",
        "    dt = df[\"first_time_detected\"]\n",
        "    df[\"ftd_hour\"] = dt.dt.hour\n",
        "    df[\"ftd_weekday\"] = dt.dt.dayofweek\n",
        "    df[\"ftd_month\"] = dt.dt.month\n",
        "    df[\"ftd_year\"] = dt.dt.year\n",
        "\n",
        "    # 3. Inter-arrival time in minutes (per site)\n",
        "    df = df.sort_values([\"site_name\", \"first_time_detected\"])\n",
        "    df[\"interarrival_mins\"] = (\n",
        "        df.groupby(\"site_name\")[\"first_time_detected\"]\n",
        "          .diff().dt.total_seconds().div(60)\n",
        "    )\n",
        "\n",
        "    return df\n",
        "\n",
        "\n",
        "def drop_sparse_columns(df: pd.DataFrame) -> pd.DataFrame:\n",
        "    domain_keep = {\n",
        "        \"last_time_cleared\",\n",
        "        \"first_time_detected\",\n",
        "        \"last_time_detected\",\n",
        "        \"site_name\",\n",
        "        \"alarm_type\",\n",
        "        \"severity\",\n",
        "        \"interarrival_mins\"\n",
        "    }\n",
        "    missing_ratio = df.isna().mean()\n",
        "    to_drop = [\n",
        "        col for col, pct in missing_ratio.items()\n",
        "        if pct > 0.95 and col not in domain_keep\n",
        "    ]\n",
        "\n",
        "    if to_drop:\n",
        "        print(\"Dropping sparse columns:\", to_drop)\n",
        "\n",
        "    return df.drop(columns=to_drop)\n",
        "\n",
        "\n",
        "\n",
        "def define_targets(df: pd.DataFrame) -> dict:\n",
        "    \"\"\"\n",
        "    Define supervised learning targets based on current and next alarm state.\n",
        "    \"\"\"\n",
        "    return {\n",
        "        \"next_alarm_type\"      : df[\"alarm_type\"].shift(-1),\n",
        "        \"future_alarm_occurs\"  : (df[\"interarrival_mins\"] < 60)\n",
        "                                    .fillna(0).astype(int),\n",
        "        \"time_to_next_alarm\"   : df[\"interarrival_mins\"],\n",
        "        \"future_alarm_severity\": df[\"severity\"].shift(-1),\n",
        "        \"escalation_risk\"      : (df[\"severity\"] == \"Critical\").astype(int)\n",
        "    }\n",
        "\n",
        "\n",
        "\n",
        "\n",
        "def build_preprocessing_pipeline(df: pd.DataFrame):\n",
        "    categorical = [\n",
        "        \"site_name\", \"alarmed_object_name\", \"alarmed_object_type\",\n",
        "        \"source_system\", \"alarm_name\", \"alarm_type\", \"severity\",\n",
        "        \"probable_cause\", \"specific_problem\", \"is_service_affecting\"\n",
        "    ]\n",
        "    numeric = [\n",
        "        \"number_of_occurrences\", \"life_span_(minutes)\",\n",
        "        \"interarrival_mins\", \"ftd_hour\", \"ftd_weekday\",\n",
        "        \"ftd_month\", \"ftd_year\", \"is_active\"\n",
        "    ]\n",
        "\n",
        "    for col in categorical:\n",
        "        missing_flag = f\"{col}_missing\"\n",
        "        df[missing_flag] = df[col].isna().astype(int)\n",
        "        numeric.append(missing_flag)\n",
        "\n",
        "    num_pipe = Pipeline([\n",
        "        (\"imputer\", SimpleImputer(strategy=\"median\"))\n",
        "    ])\n",
        "\n",
        "    cat_pipe = Pipeline([\n",
        "        (\"imputer\", SimpleImputer(strategy=\"constant\", fill_value=\"UNKNOWN\")),\n",
        "        (\"to_str\", FunctionTransformer(lambda x: x.astype(str))),\n",
        "        (\"encoder\", OneHotEncoder(handle_unknown=\"ignore\", sparse_output=True))\n",
        "    ])\n",
        "\n",
        "    preprocessor = ColumnTransformer([\n",
        "        (\"num\", num_pipe, numeric),\n",
        "        (\"cat\", cat_pipe, categorical)\n",
        "    ], remainder=\"drop\")\n",
        "\n",
        "\n",
        "    return preprocessor, numeric + categorical\n",
        "\n",
        "\n",
        "\n",
        "# def preprocess_pipeline(input_path: str):\n",
        "#     \"\"\"\n",
        "#     Full preprocessing workflow: clean, transform, engineer features, and save outputs.\n",
        "#     \"\"\"\n",
        "#     print(\"Loading merged dataset...\")\n",
        "#     df = load_merged_data(input_path)\n",
        "\n",
        "#     print(\"Standardizing column names and converting types...\")\n",
        "#     df = clean_column_names(df)\n",
        "#     df = convert_dtypes(df)\n",
        "\n",
        "#     print(\"Engineering domain-specific features...\")\n",
        "#     df = drop_sparse_columns(df)\n",
        "#     print(\"Cleaned column names:\", df.columns.tolist())\n",
        "#     df = engineer_features(df)\n",
        "\n",
        "#     print(\"Creating supervised learning targets...\")\n",
        "#     y_dict = define_targets(df)\n",
        "\n",
        "#     print(\"Building and applying scikit-learn preprocessing pipeline...\")\n",
        "#     preprocessor, feature_cols = build_preprocessing_pipeline(df)\n",
        "#     X = preprocessor.fit_transform(df)\n",
        "\n",
        "#     print(\"Saving preprocessed artifacts...\")\n",
        "#     df.to_parquet(\"alarms_clean.parquet\", index=False)\n",
        "#     joblib.dump((X, y_dict, preprocessor), \"alarms_ml_ready.pkl\")\n",
        "\n",
        "#     print(\"Done. Outputs saved as:\")\n",
        "#     print(\" - alarms_clean.parquet\")\n",
        "#     print(\" - alarms_ml_ready.pkl\")\n",
        "\n",
        "\n",
        "# if __name__ == \"__main__\":\n",
        "#     merged_path = \"/home/sohanx1/Downloads/6th sem/SE/nokia/codes/gshare/merged_dataset.csv\"  # Update path if needed\n",
        "# preprocess_pipeline(merged_path)\n"
      ],
      "metadata": {
        "id": "5YZOq2rf8act"
      },
      "execution_count": null,
      "outputs": []
    },
    {
      "cell_type": "code",
      "source": [
        "\n",
        "\"\"\"\n",
        "Full preprocessing workflow: clean, transform, engineer features, and save outputs.\n",
        "\"\"\"\n",
        "print(\"Loading merged dataset...\")\n",
        "df = load_merged_data(\"/content/merged_dataset.csv\")\n",
        "\n"
      ],
      "metadata": {
        "colab": {
          "base_uri": "https://localhost:8080/"
        },
        "id": "R6ISu9-X8cMn",
        "outputId": "0aeadd46-d309-4a83-a5a4-eccdf8147c70"
      },
      "execution_count": null,
      "outputs": [
        {
          "output_type": "stream",
          "name": "stdout",
          "text": [
            "Loading merged dataset...\n"
          ]
        }
      ]
    },
    {
      "cell_type": "code",
      "source": [
        "df = clean_column_names(df)\n",
        "df = convert_dtypes(df)\n",
        "df = drop_sparse_columns(df)"
      ],
      "metadata": {
        "colab": {
          "base_uri": "https://localhost:8080/"
        },
        "id": "Hz1Vwfox8eaW",
        "outputId": "11483667-201f-411b-baf9-fb4762c1d9b4"
      },
      "execution_count": null,
      "outputs": [
        {
          "output_type": "stream",
          "name": "stderr",
          "text": [
            "<ipython-input-2-7161f569f377>:50: UserWarning: Could not infer format, so each element will be parsed individually, falling back to `dateutil`. To ensure parsing is consistent and as-expected, please specify a format.\n",
            "  df[col] = pd.to_datetime(df[col], errors=\"coerce\")\n",
            "<ipython-input-2-7161f569f377>:50: UserWarning: Could not infer format, so each element will be parsed individually, falling back to `dateutil`. To ensure parsing is consistent and as-expected, please specify a format.\n",
            "  df[col] = pd.to_datetime(df[col], errors=\"coerce\")\n",
            "<ipython-input-2-7161f569f377>:50: UserWarning: Could not infer format, so each element will be parsed individually, falling back to `dateutil`. To ensure parsing is consistent and as-expected, please specify a format.\n",
            "  df[col] = pd.to_datetime(df[col], errors=\"coerce\")\n"
          ]
        },
        {
          "output_type": "stream",
          "name": "stdout",
          "text": [
            "Dropping sparse columns: ['alarmed_object_source_system']\n"
          ]
        }
      ]
    },
    {
      "cell_type": "code",
      "source": [
        "df = engineer_features(df)"
      ],
      "metadata": {
        "id": "6Ve1O37_8hIF"
      },
      "execution_count": null,
      "outputs": []
    },
    {
      "cell_type": "code",
      "source": [
        "y_dict = define_targets(df)\n",
        "print(\"Building and applying scikit-learn preprocessing pipeline...\")\n",
        "preprocessor, feature_cols = build_preprocessing_pipeline(df)\n",
        "X = preprocessor.fit_transform(df)"
      ],
      "metadata": {
        "colab": {
          "base_uri": "https://localhost:8080/"
        },
        "id": "EjU8R5DD8icL",
        "outputId": "119dfd63-346b-4f42-d36e-a0f6419567c2"
      },
      "execution_count": null,
      "outputs": [
        {
          "output_type": "stream",
          "name": "stdout",
          "text": [
            "Building and applying scikit-learn preprocessing pipeline...\n"
          ]
        },
        {
          "output_type": "stream",
          "name": "stderr",
          "text": [
            "/usr/local/lib/python3.11/dist-packages/sklearn/impute/_base.py:635: UserWarning: Skipping features without any observed values: ['interarrival_mins' 'ftd_hour' 'ftd_weekday' 'ftd_month' 'ftd_year']. At least one non-missing value is needed for imputation with strategy='median'.\n",
            "  warnings.warn(\n"
          ]
        }
      ]
    },
    {
      "cell_type": "code",
      "source": [
        "df.to_csv(\"cleaned_data.csv\",index=False)"
      ],
      "metadata": {
        "colab": {
          "base_uri": "https://localhost:8080/",
          "height": 294
        },
        "id": "lE5f2M5s9Zjb",
        "outputId": "d8ca54d7-3ebd-433a-f9d6-cb3804d75953"
      },
      "execution_count": null,
      "outputs": [
        {
          "output_type": "error",
          "ename": "AttributeError",
          "evalue": "'DataFrame' object has no attribute 'download'",
          "traceback": [
            "\u001b[0;31m---------------------------------------------------------------------------\u001b[0m",
            "\u001b[0;31mAttributeError\u001b[0m                            Traceback (most recent call last)",
            "\u001b[0;32m<ipython-input-11-92e6dbf5176e>\u001b[0m in \u001b[0;36m<cell line: 0>\u001b[0;34m()\u001b[0m\n\u001b[1;32m      1\u001b[0m \u001b[0mdf\u001b[0m\u001b[0;34m.\u001b[0m\u001b[0mto_csv\u001b[0m\u001b[0;34m(\u001b[0m\u001b[0;34m\"cleaned_data.csv\"\u001b[0m\u001b[0;34m,\u001b[0m\u001b[0mindex\u001b[0m\u001b[0;34m=\u001b[0m\u001b[0;32mFalse\u001b[0m\u001b[0;34m)\u001b[0m\u001b[0;34m\u001b[0m\u001b[0;34m\u001b[0m\u001b[0m\n\u001b[0;32m----> 2\u001b[0;31m \u001b[0mdf\u001b[0m\u001b[0;34m.\u001b[0m\u001b[0mdownload\u001b[0m\u001b[0;34m(\u001b[0m\u001b[0;34m\"cleaned_data.csv\"\u001b[0m\u001b[0;34m)\u001b[0m\u001b[0;34m\u001b[0m\u001b[0;34m\u001b[0m\u001b[0m\n\u001b[0m",
            "\u001b[0;32m/usr/local/lib/python3.11/dist-packages/pandas/core/generic.py\u001b[0m in \u001b[0;36m__getattr__\u001b[0;34m(self, name)\u001b[0m\n\u001b[1;32m   6297\u001b[0m         ):\n\u001b[1;32m   6298\u001b[0m             \u001b[0;32mreturn\u001b[0m \u001b[0mself\u001b[0m\u001b[0;34m[\u001b[0m\u001b[0mname\u001b[0m\u001b[0;34m]\u001b[0m\u001b[0;34m\u001b[0m\u001b[0;34m\u001b[0m\u001b[0m\n\u001b[0;32m-> 6299\u001b[0;31m         \u001b[0;32mreturn\u001b[0m \u001b[0mobject\u001b[0m\u001b[0;34m.\u001b[0m\u001b[0m__getattribute__\u001b[0m\u001b[0;34m(\u001b[0m\u001b[0mself\u001b[0m\u001b[0;34m,\u001b[0m \u001b[0mname\u001b[0m\u001b[0;34m)\u001b[0m\u001b[0;34m\u001b[0m\u001b[0;34m\u001b[0m\u001b[0m\n\u001b[0m\u001b[1;32m   6300\u001b[0m \u001b[0;34m\u001b[0m\u001b[0m\n\u001b[1;32m   6301\u001b[0m     \u001b[0;34m@\u001b[0m\u001b[0mfinal\u001b[0m\u001b[0;34m\u001b[0m\u001b[0;34m\u001b[0m\u001b[0m\n",
            "\u001b[0;31mAttributeError\u001b[0m: 'DataFrame' object has no attribute 'download'"
          ]
        }
      ]
    },
    {
      "cell_type": "code",
      "source": [
        "from google.colab import files\n",
        "\n",
        "files.download(\"/content/cleaned_data.csv\")"
      ],
      "metadata": {
        "colab": {
          "base_uri": "https://localhost:8080/",
          "height": 34
        },
        "id": "LTOgUFhc92SV",
        "outputId": "07ccc53c-1cc9-461b-a4f9-990c4623cf9f"
      },
      "execution_count": null,
      "outputs": [
        {
          "output_type": "display_data",
          "data": {
            "text/plain": [
              "<IPython.core.display.Javascript object>"
            ],
            "application/javascript": [
              "\n",
              "    async function download(id, filename, size) {\n",
              "      if (!google.colab.kernel.accessAllowed) {\n",
              "        return;\n",
              "      }\n",
              "      const div = document.createElement('div');\n",
              "      const label = document.createElement('label');\n",
              "      label.textContent = `Downloading \"${filename}\": `;\n",
              "      div.appendChild(label);\n",
              "      const progress = document.createElement('progress');\n",
              "      progress.max = size;\n",
              "      div.appendChild(progress);\n",
              "      document.body.appendChild(div);\n",
              "\n",
              "      const buffers = [];\n",
              "      let downloaded = 0;\n",
              "\n",
              "      const channel = await google.colab.kernel.comms.open(id);\n",
              "      // Send a message to notify the kernel that we're ready.\n",
              "      channel.send({})\n",
              "\n",
              "      for await (const message of channel.messages) {\n",
              "        // Send a message to notify the kernel that we're ready.\n",
              "        channel.send({})\n",
              "        if (message.buffers) {\n",
              "          for (const buffer of message.buffers) {\n",
              "            buffers.push(buffer);\n",
              "            downloaded += buffer.byteLength;\n",
              "            progress.value = downloaded;\n",
              "          }\n",
              "        }\n",
              "      }\n",
              "      const blob = new Blob(buffers, {type: 'application/binary'});\n",
              "      const a = document.createElement('a');\n",
              "      a.href = window.URL.createObjectURL(blob);\n",
              "      a.download = filename;\n",
              "      div.appendChild(a);\n",
              "      a.click();\n",
              "      div.remove();\n",
              "    }\n",
              "  "
            ]
          },
          "metadata": {}
        },
        {
          "output_type": "display_data",
          "data": {
            "text/plain": [
              "<IPython.core.display.Javascript object>"
            ],
            "application/javascript": [
              "download(\"download_55377330-7167-4231-b143-8f89d1bfa163\", \"cleaned_data.csv\", 273818710)"
            ]
          },
          "metadata": {}
        }
      ]
    }
  ]
}